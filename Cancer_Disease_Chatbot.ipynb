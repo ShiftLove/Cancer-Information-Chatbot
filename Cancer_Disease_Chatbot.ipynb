{
  "nbformat": 4,
  "nbformat_minor": 0,
  "metadata": {
    "colab": {
      "provenance": [],
      "collapsed_sections": [],
      "authorship_tag": "ABX9TyNljmw+ESjyFGg40gYoFo7b",
      "include_colab_link": true
    },
    "kernelspec": {
      "name": "python3",
      "display_name": "Python 3"
    },
    "language_info": {
      "name": "python"
    }
  },
  "cells": [
    {
      "cell_type": "markdown",
      "metadata": {
        "id": "view-in-github",
        "colab_type": "text"
      },
      "source": [
        "<a href=\"https://colab.research.google.com/github/ShiftLove/Cancer-Information-Chatbot/blob/main/Cancer_Disease_Chatbot.ipynb\" target=\"_parent\"><img src=\"https://colab.research.google.com/assets/colab-badge.svg\" alt=\"Open In Colab\"/></a>"
      ]
    },
    {
      "cell_type": "code",
      "source": [
        "#Smart Chatbot"
      ],
      "metadata": {
        "id": "wbhuEpaAaZ_e"
      },
      "execution_count": 70,
      "outputs": []
    },
    {
      "cell_type": "code",
      "source": [
        "! pip install nltk"
      ],
      "metadata": {
        "colab": {
          "base_uri": "https://localhost:8080/"
        },
        "id": "DgqqNfTxacI7",
        "outputId": "1098217d-c72c-4b97-830a-4fcf5160d1f1"
      },
      "execution_count": 71,
      "outputs": [
        {
          "output_type": "stream",
          "name": "stdout",
          "text": [
            "Looking in indexes: https://pypi.org/simple, https://us-python.pkg.dev/colab-wheels/public/simple/\n",
            "Requirement already satisfied: nltk in /usr/local/lib/python3.7/dist-packages (3.7)\n",
            "Requirement already satisfied: click in /usr/local/lib/python3.7/dist-packages (from nltk) (7.1.2)\n",
            "Requirement already satisfied: regex>=2021.8.3 in /usr/local/lib/python3.7/dist-packages (from nltk) (2022.6.2)\n",
            "Requirement already satisfied: joblib in /usr/local/lib/python3.7/dist-packages (from nltk) (1.2.0)\n",
            "Requirement already satisfied: tqdm in /usr/local/lib/python3.7/dist-packages (from nltk) (4.64.1)\n"
          ]
        }
      ]
    },
    {
      "cell_type": "code",
      "source": [
        "! pip install newspaper3k"
      ],
      "metadata": {
        "colab": {
          "base_uri": "https://localhost:8080/"
        },
        "id": "PatI9N2raf0l",
        "outputId": "87aa73eb-62e1-4ecf-c586-9a9cc37762d0"
      },
      "execution_count": 72,
      "outputs": [
        {
          "output_type": "stream",
          "name": "stdout",
          "text": [
            "Looking in indexes: https://pypi.org/simple, https://us-python.pkg.dev/colab-wheels/public/simple/\n",
            "Requirement already satisfied: newspaper3k in /usr/local/lib/python3.7/dist-packages (0.2.8)\n",
            "Requirement already satisfied: cssselect>=0.9.2 in /usr/local/lib/python3.7/dist-packages (from newspaper3k) (1.1.0)\n",
            "Requirement already satisfied: lxml>=3.6.0 in /usr/local/lib/python3.7/dist-packages (from newspaper3k) (4.9.1)\n",
            "Requirement already satisfied: tldextract>=2.0.1 in /usr/local/lib/python3.7/dist-packages (from newspaper3k) (3.4.0)\n",
            "Requirement already satisfied: PyYAML>=3.11 in /usr/local/lib/python3.7/dist-packages (from newspaper3k) (6.0)\n",
            "Requirement already satisfied: feedparser>=5.2.1 in /usr/local/lib/python3.7/dist-packages (from newspaper3k) (6.0.10)\n",
            "Requirement already satisfied: python-dateutil>=2.5.3 in /usr/local/lib/python3.7/dist-packages (from newspaper3k) (2.8.2)\n",
            "Requirement already satisfied: beautifulsoup4>=4.4.1 in /usr/local/lib/python3.7/dist-packages (from newspaper3k) (4.6.3)\n",
            "Requirement already satisfied: feedfinder2>=0.0.4 in /usr/local/lib/python3.7/dist-packages (from newspaper3k) (0.0.4)\n",
            "Requirement already satisfied: nltk>=3.2.1 in /usr/local/lib/python3.7/dist-packages (from newspaper3k) (3.7)\n",
            "Requirement already satisfied: Pillow>=3.3.0 in /usr/local/lib/python3.7/dist-packages (from newspaper3k) (7.1.2)\n",
            "Requirement already satisfied: jieba3k>=0.35.1 in /usr/local/lib/python3.7/dist-packages (from newspaper3k) (0.35.1)\n",
            "Requirement already satisfied: tinysegmenter==0.3 in /usr/local/lib/python3.7/dist-packages (from newspaper3k) (0.3)\n",
            "Requirement already satisfied: requests>=2.10.0 in /usr/local/lib/python3.7/dist-packages (from newspaper3k) (2.23.0)\n",
            "Requirement already satisfied: six in /usr/local/lib/python3.7/dist-packages (from feedfinder2>=0.0.4->newspaper3k) (1.15.0)\n",
            "Requirement already satisfied: sgmllib3k in /usr/local/lib/python3.7/dist-packages (from feedparser>=5.2.1->newspaper3k) (1.0.0)\n",
            "Requirement already satisfied: joblib in /usr/local/lib/python3.7/dist-packages (from nltk>=3.2.1->newspaper3k) (1.2.0)\n",
            "Requirement already satisfied: regex>=2021.8.3 in /usr/local/lib/python3.7/dist-packages (from nltk>=3.2.1->newspaper3k) (2022.6.2)\n",
            "Requirement already satisfied: tqdm in /usr/local/lib/python3.7/dist-packages (from nltk>=3.2.1->newspaper3k) (4.64.1)\n",
            "Requirement already satisfied: click in /usr/local/lib/python3.7/dist-packages (from nltk>=3.2.1->newspaper3k) (7.1.2)\n",
            "Requirement already satisfied: idna<3,>=2.5 in /usr/local/lib/python3.7/dist-packages (from requests>=2.10.0->newspaper3k) (2.10)\n",
            "Requirement already satisfied: certifi>=2017.4.17 in /usr/local/lib/python3.7/dist-packages (from requests>=2.10.0->newspaper3k) (2022.9.24)\n",
            "Requirement already satisfied: urllib3!=1.25.0,!=1.25.1,<1.26,>=1.21.1 in /usr/local/lib/python3.7/dist-packages (from requests>=2.10.0->newspaper3k) (1.24.3)\n",
            "Requirement already satisfied: chardet<4,>=3.0.2 in /usr/local/lib/python3.7/dist-packages (from requests>=2.10.0->newspaper3k) (3.0.4)\n",
            "Requirement already satisfied: requests-file>=1.4 in /usr/local/lib/python3.7/dist-packages (from tldextract>=2.0.1->newspaper3k) (1.5.1)\n",
            "Requirement already satisfied: filelock>=3.0.8 in /usr/local/lib/python3.7/dist-packages (from tldextract>=2.0.1->newspaper3k) (3.8.0)\n"
          ]
        }
      ]
    },
    {
      "cell_type": "code",
      "source": [
        "#Import Libraries \n",
        "from newspaper import Article\n",
        "import random\n",
        "import string\n",
        "import nltk\n",
        "from sklearn.feature_extraction.text import CountVectorizer\n",
        "from sklearn.metrics.pairwise import cosine_similarity\n",
        "import warnings\n",
        "import numpy as np\n",
        "warnings.filterwarnings('ignore')"
      ],
      "metadata": {
        "id": "z9DADR0Vasw9"
      },
      "execution_count": 73,
      "outputs": []
    },
    {
      "cell_type": "code",
      "source": [
        "#Download Punkt package\n",
        "nltk.download('punkt', quiet=True )"
      ],
      "metadata": {
        "colab": {
          "base_uri": "https://localhost:8080/"
        },
        "id": "z0EaKlxZblV0",
        "outputId": "21250689-0fb2-43d0-9b63-c9ffba0d58cb"
      },
      "execution_count": 74,
      "outputs": [
        {
          "output_type": "execute_result",
          "data": {
            "text/plain": [
              "True"
            ]
          },
          "metadata": {},
          "execution_count": 74
        }
      ]
    },
    {
      "cell_type": "code",
      "source": [
        "#Get Article\n",
        "article = Article ('https://www.mayoclinic.org/diseases-conditions/cancer/symptoms-causes/syc-20370588#:~:text=Gene%20mutations%20that%20occur%20after%20birth.&text=A%20number%20of%20forces%20can,and%20a%20lack%20of%20exercise.')\n",
        "article.download()\n",
        "article.parse()\n",
        "article.nlp()\n",
        "corpus = article.text"
      ],
      "metadata": {
        "id": "1OMaFx_gcN-r"
      },
      "execution_count": 75,
      "outputs": []
    },
    {
      "cell_type": "code",
      "source": [
        "#Print the article text\n",
        "print(corpus)"
      ],
      "metadata": {
        "colab": {
          "base_uri": "https://localhost:8080/"
        },
        "id": "3Caiez-Odgfg",
        "outputId": "dbf58b04-3a5b-48e6-c111-235ddb323e3b"
      },
      "execution_count": 76,
      "outputs": [
        {
          "output_type": "stream",
          "name": "stdout",
          "text": [
            "Overview\n",
            "\n",
            "Cancer refers to any one of a large number of diseases characterized by the development of abnormal cells that divide uncontrollably and have the ability to infiltrate and destroy normal body tissue. Cancer often has the ability to spread throughout your body.\n",
            "\n",
            "Cancer is the second-leading cause of death in the world. But survival rates are improving for many types of cancer, thanks to improvements in cancer screening, treatment and prevention.\n",
            "\n",
            "Symptoms\n",
            "\n",
            "Signs and symptoms caused by cancer will vary depending on what part of the body is affected.\n",
            "\n",
            "Some general signs and symptoms associated with, but not specific to, cancer, include:\n",
            "\n",
            "Fatigue\n",
            "\n",
            "Lump or area of thickening that can be felt under the skin\n",
            "\n",
            "Weight changes, including unintended loss or gain\n",
            "\n",
            "Skin changes, such as yellowing, darkening or redness of the skin, sores that won't heal, or changes to existing moles\n",
            "\n",
            "Changes in bowel or bladder habits\n",
            "\n",
            "Persistent cough or trouble breathing\n",
            "\n",
            "Difficulty swallowing\n",
            "\n",
            "Hoarseness\n",
            "\n",
            "Persistent indigestion or discomfort after eating\n",
            "\n",
            "Persistent, unexplained muscle or joint pain\n",
            "\n",
            "Persistent, unexplained fevers or night sweats\n",
            "\n",
            "Unexplained bleeding or bruising\n",
            "\n",
            "When to see a doctor\n",
            "\n",
            "Make an appointment with your doctor if you have any persistent signs or symptoms that concern you.\n",
            "\n",
            "If you don't have any signs or symptoms, but are worried about your risk of cancer, discuss your concerns with your doctor. Ask about which cancer screening tests and procedures are appropriate for you.\n",
            "\n",
            "Causes\n",
            "\n",
            "Cancer is caused by changes (mutations) to the DNA within cells. The DNA inside a cell is packaged into a large number of individual genes, each of which contains a set of instructions telling the cell what functions to perform, as well as how to grow and divide. Errors in the instructions can cause the cell to stop its normal function and may allow a cell to become cancerous.\n",
            "\n",
            "What do gene mutations do?\n",
            "\n",
            "A gene mutation can instruct a healthy cell to:\n",
            "\n",
            "Allow rapid growth. A gene mutation can tell a cell to grow and divide more rapidly. This creates many new cells that all have that same mutation.\n",
            "\n",
            "A gene mutation can tell a cell to grow and divide more rapidly. This creates many new cells that all have that same mutation. Fail to stop uncontrolled cell growth. Normal cells know when to stop growing so that you have just the right number of each type of cell. Cancer cells lose the controls (tumor suppressor genes) that tell them when to stop growing. A mutation in a tumor suppressor gene allows cancer cells to continue growing and accumulating.\n",
            "\n",
            "Normal cells know when to stop growing so that you have just the right number of each type of cell. Cancer cells lose the controls (tumor suppressor genes) that tell them when to stop growing. A mutation in a tumor suppressor gene allows cancer cells to continue growing and accumulating. Make mistakes when repairing DNA errors. DNA repair genes look for errors in a cell's DNA and make corrections. A mutation in a DNA repair gene may mean that other errors aren't corrected, leading cells to become cancerous.\n",
            "\n",
            "These mutations are the most common ones found in cancer. But many other gene mutations can contribute to causing cancer.\n",
            "\n",
            "What causes gene mutations?\n",
            "\n",
            "Gene mutations can occur for several reasons, for instance:\n",
            "\n",
            "Gene mutations you're born with. You may be born with a genetic mutation that you inherited from your parents. This type of mutation accounts for a small percentage of cancers.\n",
            "\n",
            "You may be born with a genetic mutation that you inherited from your parents. This type of mutation accounts for a small percentage of cancers. Gene mutations that occur after birth. Most gene mutations occur after you're born and aren't inherited. A number of forces can cause gene mutations, such as smoking, radiation, viruses, cancer-causing chemicals (carcinogens), obesity, hormones, chronic inflammation and a lack of exercise.\n",
            "\n",
            "Gene mutations occur frequently during normal cell growth. However, cells contain a mechanism that recognizes when a mistake occurs and repairs the mistake. Occasionally, a mistake is missed. This could cause a cell to become cancerous.\n",
            "\n",
            "How do gene mutations interact with each other?\n",
            "\n",
            "The gene mutations you're born with and those that you acquire throughout your life work together to cause cancer.\n",
            "\n",
            "For instance, if you've inherited a genetic mutation that predisposes you to cancer, that doesn't mean you're certain to get cancer. Instead, you may need one or more other gene mutations to cause cancer. Your inherited gene mutation could make you more likely than other people to develop cancer when exposed to a certain cancer-causing substance.\n",
            "\n",
            "It's not clear just how many mutations must accumulate for cancer to form. It's likely that this varies among cancer types.\n",
            "\n",
            "Risk factors\n",
            "\n",
            "While doctors have an idea of what may increase your risk of cancer, the majority of cancers occur in people who don't have any known risk factors. Factors known to increase your risk of cancer include:\n",
            "\n",
            "Your age\n",
            "\n",
            "Cancer can take decades to develop. That's why most people diagnosed with cancer are 65 or older. While it's more common in older adults, cancer isn't exclusively an adult disease — cancer can be diagnosed at any age.\n",
            "\n",
            "Your habits\n",
            "\n",
            "Certain lifestyle choices are known to increase your risk of cancer. Smoking, drinking more than one drink a day for women and up to two drinks a day for men, excessive exposure to the sun or frequent blistering sunburns, being obese, and having unsafe sex can contribute to cancer.\n",
            "\n",
            "You can change these habits to lower your risk of cancer — though some habits are easier to change than others.\n",
            "\n",
            "Your family history\n",
            "\n",
            "Only a small portion of cancers are due to an inherited condition. If cancer is common in your family, it's possible that mutations are being passed from one generation to the next. You might be a candidate for genetic testing to see whether you have inherited mutations that might increase your risk of certain cancers. Keep in mind that having an inherited genetic mutation doesn't necessarily mean you'll get cancer.\n",
            "\n",
            "Your health conditions\n",
            "\n",
            "Some chronic health conditions, such as ulcerative colitis, can markedly increase your risk of developing certain cancers. Talk to your doctor about your risk.\n",
            "\n",
            "Your environment\n",
            "\n",
            "The environment around you may contain harmful chemicals that can increase your risk of cancer. Even if you don't smoke, you might inhale secondhand smoke if you go where people are smoking or if you live with someone who smokes. Chemicals in your home or workplace, such as asbestos and benzene, also are associated with an increased risk of cancer.\n",
            "\n",
            "Complications\n",
            "\n",
            "Cancer and its treatment can cause several complications, including:\n",
            "\n",
            "Pain. Pain can be caused by cancer or by cancer treatment, though not all cancer is painful. Medications and other approaches can effectively treat cancer-related pain.\n",
            "\n",
            "Pain can be caused by cancer or by cancer treatment, though not all cancer is painful. Medications and other approaches can effectively treat cancer-related pain. Fatigue. Fatigue in people with cancer has many causes, but it can often be managed. Fatigue associated with chemotherapy or radiation therapy treatments is common, but it's usually temporary.\n",
            "\n",
            "Fatigue in people with cancer has many causes, but it can often be managed. Fatigue associated with chemotherapy or radiation therapy treatments is common, but it's usually temporary. Difficulty breathing. Cancer or cancer treatment may cause a feeling of being short of breath. Treatments may bring relief.\n",
            "\n",
            "Cancer or cancer treatment may cause a feeling of being short of breath. Treatments may bring relief. Nausea. Certain cancers and cancer treatments can cause nausea. Your doctor can sometimes predict if your treatment is likely to cause nausea. Medications and other treatments may help you prevent or decrease nausea.\n",
            "\n",
            "Certain cancers and cancer treatments can cause nausea. Your doctor can sometimes predict if your treatment is likely to cause nausea. Medications and other treatments may help you prevent or decrease nausea. Diarrhea or constipation. Cancer and cancer treatment can affect your bowels and cause diarrhea or constipation.\n",
            "\n",
            "Cancer and cancer treatment can affect your bowels and cause diarrhea or constipation. Weight loss. Cancer and cancer treatment may cause weight loss. Cancer steals food from normal cells and deprives them of nutrients. This is often not affected by how many calories or what kind of food is eaten; it's difficult to treat. In most cases, using artificial nutrition through tubes into the stomach or vein does not help change the weight loss.\n",
            "\n",
            "Cancer and cancer treatment may cause weight loss. Cancer steals food from normal cells and deprives them of nutrients. This is often not affected by how many calories or what kind of food is eaten; it's difficult to treat. In most cases, using artificial nutrition through tubes into the stomach or vein does not help change the weight loss. Chemical changes in your body. Cancer can upset the normal chemical balance in your body and increase your risk of serious complications. Signs and symptoms of chemical imbalances might include excessive thirst, frequent urination, constipation and confusion.\n",
            "\n",
            "Cancer can upset the normal chemical balance in your body and increase your risk of serious complications. Signs and symptoms of chemical imbalances might include excessive thirst, frequent urination, constipation and confusion. Brain and nervous system problems. Cancer can press on nearby nerves and cause pain and loss of function of one part of your body. Cancer that involves the brain can cause headaches and stroke-like signs and symptoms, such as weakness on one side of your body.\n",
            "\n",
            "Cancer can press on nearby nerves and cause pain and loss of function of one part of your body. Cancer that involves the brain can cause headaches and stroke-like signs and symptoms, such as weakness on one side of your body. Unusual immune system reactions to cancer. In some cases the body's immune system may react to the presence of cancer by attacking healthy cells. Called paraneoplastic syndromes, these very rare reactions can lead to a variety of signs and symptoms, such as difficulty walking and seizures.\n",
            "\n",
            "In some cases the body's immune system may react to the presence of cancer by attacking healthy cells. Called paraneoplastic syndromes, these very rare reactions can lead to a variety of signs and symptoms, such as difficulty walking and seizures. Cancer that spreads. As cancer advances, it may spread (metastasize) to other parts of the body. Where cancer spreads depends on the type of cancer.\n",
            "\n",
            "As cancer advances, it may spread (metastasize) to other parts of the body. Where cancer spreads depends on the type of cancer. Cancer that returns. Cancer survivors have a risk of cancer recurrence. Some cancers are more likely to recur than others. Ask your doctor about what you can do to reduce your risk of cancer recurrence. Your doctor may devise a follow-up care plan for you after treatment. This plan may include periodic scans and exams in the months and years after your treatment, to look for cancer recurrence.\n",
            "\n",
            "Prevention\n",
            "\n",
            "Doctors have identified several ways to reduce your risk of cancer, such as:\n"
          ]
        }
      ]
    },
    {
      "cell_type": "code",
      "source": [
        "#Tokenization\n",
        "text = corpus\n",
        "sentence_list=nltk.sent_tokenize (text) #A list of sentences"
      ],
      "metadata": {
        "id": "G_0Xx_v1eADg"
      },
      "execution_count": 77,
      "outputs": []
    },
    {
      "cell_type": "code",
      "source": [
        "#Print the List of sentence\n",
        "print (sentence_list)"
      ],
      "metadata": {
        "colab": {
          "base_uri": "https://localhost:8080/"
        },
        "id": "jSdduUvNegCa",
        "outputId": "92567699-d9ba-422c-c411-50f72eefc55b"
      },
      "execution_count": 78,
      "outputs": [
        {
          "output_type": "stream",
          "name": "stdout",
          "text": [
            "['Overview\\n\\nCancer refers to any one of a large number of diseases characterized by the development of abnormal cells that divide uncontrollably and have the ability to infiltrate and destroy normal body tissue.', 'Cancer often has the ability to spread throughout your body.', 'Cancer is the second-leading cause of death in the world.', 'But survival rates are improving for many types of cancer, thanks to improvements in cancer screening, treatment and prevention.', 'Symptoms\\n\\nSigns and symptoms caused by cancer will vary depending on what part of the body is affected.', \"Some general signs and symptoms associated with, but not specific to, cancer, include:\\n\\nFatigue\\n\\nLump or area of thickening that can be felt under the skin\\n\\nWeight changes, including unintended loss or gain\\n\\nSkin changes, such as yellowing, darkening or redness of the skin, sores that won't heal, or changes to existing moles\\n\\nChanges in bowel or bladder habits\\n\\nPersistent cough or trouble breathing\\n\\nDifficulty swallowing\\n\\nHoarseness\\n\\nPersistent indigestion or discomfort after eating\\n\\nPersistent, unexplained muscle or joint pain\\n\\nPersistent, unexplained fevers or night sweats\\n\\nUnexplained bleeding or bruising\\n\\nWhen to see a doctor\\n\\nMake an appointment with your doctor if you have any persistent signs or symptoms that concern you.\", \"If you don't have any signs or symptoms, but are worried about your risk of cancer, discuss your concerns with your doctor.\", 'Ask about which cancer screening tests and procedures are appropriate for you.', 'Causes\\n\\nCancer is caused by changes (mutations) to the DNA within cells.', 'The DNA inside a cell is packaged into a large number of individual genes, each of which contains a set of instructions telling the cell what functions to perform, as well as how to grow and divide.', 'Errors in the instructions can cause the cell to stop its normal function and may allow a cell to become cancerous.', 'What do gene mutations do?', 'A gene mutation can instruct a healthy cell to:\\n\\nAllow rapid growth.', 'A gene mutation can tell a cell to grow and divide more rapidly.', 'This creates many new cells that all have that same mutation.', 'A gene mutation can tell a cell to grow and divide more rapidly.', 'This creates many new cells that all have that same mutation.', 'Fail to stop uncontrolled cell growth.', 'Normal cells know when to stop growing so that you have just the right number of each type of cell.', 'Cancer cells lose the controls (tumor suppressor genes) that tell them when to stop growing.', 'A mutation in a tumor suppressor gene allows cancer cells to continue growing and accumulating.', 'Normal cells know when to stop growing so that you have just the right number of each type of cell.', 'Cancer cells lose the controls (tumor suppressor genes) that tell them when to stop growing.', 'A mutation in a tumor suppressor gene allows cancer cells to continue growing and accumulating.', 'Make mistakes when repairing DNA errors.', \"DNA repair genes look for errors in a cell's DNA and make corrections.\", \"A mutation in a DNA repair gene may mean that other errors aren't corrected, leading cells to become cancerous.\", 'These mutations are the most common ones found in cancer.', 'But many other gene mutations can contribute to causing cancer.', 'What causes gene mutations?', \"Gene mutations can occur for several reasons, for instance:\\n\\nGene mutations you're born with.\", 'You may be born with a genetic mutation that you inherited from your parents.', 'This type of mutation accounts for a small percentage of cancers.', 'You may be born with a genetic mutation that you inherited from your parents.', 'This type of mutation accounts for a small percentage of cancers.', 'Gene mutations that occur after birth.', \"Most gene mutations occur after you're born and aren't inherited.\", 'A number of forces can cause gene mutations, such as smoking, radiation, viruses, cancer-causing chemicals (carcinogens), obesity, hormones, chronic inflammation and a lack of exercise.', 'Gene mutations occur frequently during normal cell growth.', 'However, cells contain a mechanism that recognizes when a mistake occurs and repairs the mistake.', 'Occasionally, a mistake is missed.', 'This could cause a cell to become cancerous.', 'How do gene mutations interact with each other?', \"The gene mutations you're born with and those that you acquire throughout your life work together to cause cancer.\", \"For instance, if you've inherited a genetic mutation that predisposes you to cancer, that doesn't mean you're certain to get cancer.\", 'Instead, you may need one or more other gene mutations to cause cancer.', 'Your inherited gene mutation could make you more likely than other people to develop cancer when exposed to a certain cancer-causing substance.', \"It's not clear just how many mutations must accumulate for cancer to form.\", \"It's likely that this varies among cancer types.\", \"Risk factors\\n\\nWhile doctors have an idea of what may increase your risk of cancer, the majority of cancers occur in people who don't have any known risk factors.\", 'Factors known to increase your risk of cancer include:\\n\\nYour age\\n\\nCancer can take decades to develop.', \"That's why most people diagnosed with cancer are 65 or older.\", \"While it's more common in older adults, cancer isn't exclusively an adult disease — cancer can be diagnosed at any age.\", 'Your habits\\n\\nCertain lifestyle choices are known to increase your risk of cancer.', 'Smoking, drinking more than one drink a day for women and up to two drinks a day for men, excessive exposure to the sun or frequent blistering sunburns, being obese, and having unsafe sex can contribute to cancer.', 'You can change these habits to lower your risk of cancer — though some habits are easier to change than others.', 'Your family history\\n\\nOnly a small portion of cancers are due to an inherited condition.', \"If cancer is common in your family, it's possible that mutations are being passed from one generation to the next.\", 'You might be a candidate for genetic testing to see whether you have inherited mutations that might increase your risk of certain cancers.', \"Keep in mind that having an inherited genetic mutation doesn't necessarily mean you'll get cancer.\", 'Your health conditions\\n\\nSome chronic health conditions, such as ulcerative colitis, can markedly increase your risk of developing certain cancers.', 'Talk to your doctor about your risk.', 'Your environment\\n\\nThe environment around you may contain harmful chemicals that can increase your risk of cancer.', \"Even if you don't smoke, you might inhale secondhand smoke if you go where people are smoking or if you live with someone who smokes.\", 'Chemicals in your home or workplace, such as asbestos and benzene, also are associated with an increased risk of cancer.', 'Complications\\n\\nCancer and its treatment can cause several complications, including:\\n\\nPain.', 'Pain can be caused by cancer or by cancer treatment, though not all cancer is painful.', 'Medications and other approaches can effectively treat cancer-related pain.', 'Pain can be caused by cancer or by cancer treatment, though not all cancer is painful.', 'Medications and other approaches can effectively treat cancer-related pain.', 'Fatigue.', 'Fatigue in people with cancer has many causes, but it can often be managed.', \"Fatigue associated with chemotherapy or radiation therapy treatments is common, but it's usually temporary.\", 'Fatigue in people with cancer has many causes, but it can often be managed.', \"Fatigue associated with chemotherapy or radiation therapy treatments is common, but it's usually temporary.\", 'Difficulty breathing.', 'Cancer or cancer treatment may cause a feeling of being short of breath.', 'Treatments may bring relief.', 'Cancer or cancer treatment may cause a feeling of being short of breath.', 'Treatments may bring relief.', 'Nausea.', 'Certain cancers and cancer treatments can cause nausea.', 'Your doctor can sometimes predict if your treatment is likely to cause nausea.', 'Medications and other treatments may help you prevent or decrease nausea.', 'Certain cancers and cancer treatments can cause nausea.', 'Your doctor can sometimes predict if your treatment is likely to cause nausea.', 'Medications and other treatments may help you prevent or decrease nausea.', 'Diarrhea or constipation.', 'Cancer and cancer treatment can affect your bowels and cause diarrhea or constipation.', 'Cancer and cancer treatment can affect your bowels and cause diarrhea or constipation.', 'Weight loss.', 'Cancer and cancer treatment may cause weight loss.', 'Cancer steals food from normal cells and deprives them of nutrients.', \"This is often not affected by how many calories or what kind of food is eaten; it's difficult to treat.\", 'In most cases, using artificial nutrition through tubes into the stomach or vein does not help change the weight loss.', 'Cancer and cancer treatment may cause weight loss.', 'Cancer steals food from normal cells and deprives them of nutrients.', \"This is often not affected by how many calories or what kind of food is eaten; it's difficult to treat.\", 'In most cases, using artificial nutrition through tubes into the stomach or vein does not help change the weight loss.', 'Chemical changes in your body.', 'Cancer can upset the normal chemical balance in your body and increase your risk of serious complications.', 'Signs and symptoms of chemical imbalances might include excessive thirst, frequent urination, constipation and confusion.', 'Cancer can upset the normal chemical balance in your body and increase your risk of serious complications.', 'Signs and symptoms of chemical imbalances might include excessive thirst, frequent urination, constipation and confusion.', 'Brain and nervous system problems.', 'Cancer can press on nearby nerves and cause pain and loss of function of one part of your body.', 'Cancer that involves the brain can cause headaches and stroke-like signs and symptoms, such as weakness on one side of your body.', 'Cancer can press on nearby nerves and cause pain and loss of function of one part of your body.', 'Cancer that involves the brain can cause headaches and stroke-like signs and symptoms, such as weakness on one side of your body.', 'Unusual immune system reactions to cancer.', \"In some cases the body's immune system may react to the presence of cancer by attacking healthy cells.\", 'Called paraneoplastic syndromes, these very rare reactions can lead to a variety of signs and symptoms, such as difficulty walking and seizures.', \"In some cases the body's immune system may react to the presence of cancer by attacking healthy cells.\", 'Called paraneoplastic syndromes, these very rare reactions can lead to a variety of signs and symptoms, such as difficulty walking and seizures.', 'Cancer that spreads.', 'As cancer advances, it may spread (metastasize) to other parts of the body.', 'Where cancer spreads depends on the type of cancer.', 'As cancer advances, it may spread (metastasize) to other parts of the body.', 'Where cancer spreads depends on the type of cancer.', 'Cancer that returns.', 'Cancer survivors have a risk of cancer recurrence.', 'Some cancers are more likely to recur than others.', 'Ask your doctor about what you can do to reduce your risk of cancer recurrence.', 'Your doctor may devise a follow-up care plan for you after treatment.', 'This plan may include periodic scans and exams in the months and years after your treatment, to look for cancer recurrence.', 'Prevention\\n\\nDoctors have identified several ways to reduce your risk of cancer, such as:']\n"
          ]
        }
      ]
    },
    {
      "cell_type": "code",
      "source": [
        "#Function to return a random greeting response to a user's greeting\n",
        "def greeting_response (text):\n",
        "  text = text.lower()\n",
        "  # Bot Greeting\n",
        "  bot_greetings = ['hi', 'hello', 'Oyaa', 'howdy', 'we mzee', 'buda']\n",
        "  #User greeting\n",
        "  user_greetings = ['hi', 'hello', 'niaje']\n",
        "\n",
        "  for word in text.split():\n",
        "    if word in user_greetings:\n",
        "      return random.choice (bot_greetings)\n"
      ],
      "metadata": {
        "id": "C-Tz15nueqRw"
      },
      "execution_count": 87,
      "outputs": []
    },
    {
      "cell_type": "code",
      "source": [
        "def index_sort(list_var):\n",
        "  length = len(list_var)\n",
        "  list_index = list(range(0, length))\n",
        "  x = list_var\n",
        "  for i in range(length):\n",
        "    for j in range(length):\n",
        "      if x[list_index[i]]> x[list_index[j]]:\n",
        "        #Swap\n",
        "        temp = list_index[i]\n",
        "        list_index [i] = list_index [j]\n",
        "        list_index[j]=temp\n",
        "  return list_index\n",
        "\n"
      ],
      "metadata": {
        "id": "WffqytM5iBp6"
      },
      "execution_count": 80,
      "outputs": []
    },
    {
      "cell_type": "code",
      "source": [
        "#Create Bot Response\n",
        "def bot_response():\n",
        "  user_input= user_input.lower()\n",
        "  sentence_list.append(user_input)\n",
        "  bot_response = ' '\n",
        "  cm = CountVectorizer().fit_transform(sentence_list)\n",
        "  similarities_score = cosine_similarity (cm[-1], cm)\n",
        "  similarities_score_list =  similarities_score.flatten()\n",
        "  index = index_sort (similarities_score_list)\n",
        "  index = index[1:] #Contains all the values that are not the word itself\n",
        "  response_flag = 0\n",
        "\n",
        "  j = 0\n",
        "  for i in range(len(index)):\n",
        "    if similarities_score_list[index[i]] > 0.0:\n",
        "      bot_response = bot_response + ' ' + sentence_list[index[i]]\n",
        "      response_flag = 1\n",
        "      j = j + 1\n",
        "      if j > 2:\n",
        "        break\n",
        "      if response_flag == 0:\n",
        "        bot_response = bot_response + '' + \"Sorry, I don't understand your request. Use a different word and try your search again.\"\n",
        "        sentence_list.remove(user_input)\n",
        "      return bot_response\n",
        "\n"
      ],
      "metadata": {
        "id": "Xt_zf1tmgLpR"
      },
      "execution_count": 93,
      "outputs": []
    },
    {
      "cell_type": "code",
      "source": [
        "#Start the Chat\n",
        "print('I am Doctor Bot. I will answer your questions about Cancer. If you want to exit, type bye.')\n",
        "\n",
        "exit_list = ['exit', 'see you later', 'bye', 'stay safe', 'quit', 'break']\n",
        "\n",
        "\n",
        "while (True):\n",
        "  user_input = input()\n",
        "\n",
        "  if user_input.lower() in exit_list:\n",
        "    print('Doctor Bot will chat with you later then!')\n",
        "    break\n",
        "  else:\n",
        "    if greeting_response(user_input) != None:\n",
        "      print('Doctor Bot: '+greeting_response(user_input))\n",
        "    else:\n",
        "      print('Doctor Bot: '+bot_response(user_input))\n"
      ],
      "metadata": {
        "colab": {
          "base_uri": "https://localhost:8080/"
        },
        "id": "RFNUTy9_neSG",
        "outputId": "3b55e6ea-e087-4632-80f7-08f7afde56aa"
      },
      "execution_count": null,
      "outputs": [
        {
          "output_type": "stream",
          "name": "stdout",
          "text": [
            "I am Doctor Bot. I will answer your questions about Cancer. If you want to exit, type bye.\n"
          ]
        }
      ]
    }
  ]
}